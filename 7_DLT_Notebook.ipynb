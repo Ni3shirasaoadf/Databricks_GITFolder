{
 "cells": [
  {
   "cell_type": "markdown",
   "metadata": {
    "application/vnd.databricks.v1+cell": {
     "cellMetadata": {},
     "inputWidgets": {},
     "nuid": "133942f9-9bb8-4168-ac79-c56ec567e735",
     "showTitle": false,
     "tableResultSettingsMap": {},
     "title": ""
    }
   },
   "source": [
    "# DLT Notebook - Gold layer"
   ]
  },
  {
   "cell_type": "code",
   "execution_count": 0,
   "metadata": {
    "application/vnd.databricks.v1+cell": {
     "cellMetadata": {},
     "inputWidgets": {},
     "nuid": "d0d374d6-daec-410f-acec-a9eb488031b1",
     "showTitle": false,
     "tableResultSettingsMap": {},
     "title": ""
    }
   },
   "outputs": [],
   "source": [
    "lookuptable_rules(\n",
    "    \"rule1\",\"show_id IS NOT NULL\"\n",
    ")"
   ]
  },
  {
   "cell_type": "code",
   "execution_count": 0,
   "metadata": {
    "application/vnd.databricks.v1+cell": {
     "cellMetadata": {},
     "inputWidgets": {},
     "nuid": "20c5be94-6159-412a-96e8-911b148d4e5e",
     "showTitle": false,
     "tableResultSettingsMap": {},
     "title": ""
    }
   },
   "outputs": [],
   "source": [
    "@dlt.table(\n",
    "    name = \"gold_netflixdirectors\"\n",
    ")\n",
    "#@dlt.expect_all_or_drop(lookuptable_rules) #for applying all rule or below for applying only one rule\n",
    "@dlt.expect_or_drop(\"rule1\":\"show_id IS NOT NULL\")\n",
    "def my_func():\n",
    "    df=spark.readStream.format('delta').load(\"abfss://silver@addscasestudy.dfs.core.windows.net/netflix_directors\")\n",
    "    return df\n"
   ]
  },
  {
   "cell_type": "code",
   "execution_count": 0,
   "metadata": {
    "application/vnd.databricks.v1+cell": {
     "cellMetadata": {},
     "inputWidgets": {},
     "nuid": "aa0ef8cc-15dc-4f92-a00e-09bbebb1cd76",
     "showTitle": false,
     "tableResultSettingsMap": {},
     "title": ""
    }
   },
   "outputs": [],
   "source": [
    "@dlt.table(\n",
    "    name = \"gold_netflixcast\"\n",
    ")\n",
    "\n",
    "@dlt.expect_or_drop(\"rule1\",\"show_id IS NOT NULL\")\n",
    "def my_func():\n",
    "    df=spark.readStream.format('delta').load(\"abfss://silver@addscasestudy.dfs.core.windows.net/netflix_cast\")\n",
    "    return df\n"
   ]
  },
  {
   "cell_type": "code",
   "execution_count": 0,
   "metadata": {
    "application/vnd.databricks.v1+cell": {
     "cellMetadata": {},
     "inputWidgets": {},
     "nuid": "fca8d57b-92df-4d00-a60a-92a2e17dcb08",
     "showTitle": false,
     "tableResultSettingsMap": {},
     "title": ""
    }
   },
   "outputs": [],
   "source": [
    "@dlt.table(\n",
    "    name = \"gold_netflixcategory\"\n",
    ")\n",
    "\n",
    "@dlt.expect_or_drop(\"rule1\",\"show_id IS NOT NULL\")\n",
    "def my_func():\n",
    "    df=spark.readStream.format('delta').load(\"abfss://silver@addscasestudy.dfs.core.windows.net/netflix_category\")\n",
    "    return df\n"
   ]
  },
  {
   "cell_type": "code",
   "execution_count": 0,
   "metadata": {
    "application/vnd.databricks.v1+cell": {
     "cellMetadata": {},
     "inputWidgets": {},
     "nuid": "eca11c1d-3f28-40a8-ab12-6236a715cc01",
     "showTitle": false,
     "tableResultSettingsMap": {},
     "title": ""
    }
   },
   "outputs": [],
   "source": [
    "@dlt.table(\n",
    "    name = \"gold_netflixcountries\"\n",
    ")\n",
    "\n",
    "@dlt.expect_or_drop(\"rule1\",\"show_id IS NOT NULL\")\n",
    "def my_func():\n",
    "    df=spark.readStream.format('delta').load(\"abfss://silver@addscasestudy.dfs.core.windows.net/netflix_countries\")\n",
    "    return df\n"
   ]
  },
  {
   "cell_type": "code",
   "execution_count": 0,
   "metadata": {
    "application/vnd.databricks.v1+cell": {
     "cellMetadata": {},
     "inputWidgets": {},
     "nuid": "c7400f34-b59d-49e1-b256-f9a9974e63ed",
     "showTitle": false,
     "tableResultSettingsMap": {},
     "title": ""
    }
   },
   "outputs": [],
   "source": [
    "@dlt.table\n",
    "\n",
    "def gold_stg_netflixtitles():\n",
    "\n",
    "    df = spark.readStream.format('delta').load(\"abfss://silver@addscasestudy.dfs.core.windows.net/netflix_titles\")\n",
    "    return df"
   ]
  },
  {
   "cell_type": "code",
   "execution_count": 0,
   "metadata": {
    "application/vnd.databricks.v1+cell": {
     "cellMetadata": {},
     "inputWidgets": {},
     "nuid": "dd59a50c-de2d-4532-8960-e4d2a754f7a6",
     "showTitle": false,
     "tableResultSettingsMap": {},
     "title": ""
    }
   },
   "outputs": [],
   "source": [
    "from pyspark.sql.functions import *\n",
    "\n",
    "masterdata_rules(\n",
    "    \"rule1\",\"newflag IS NOT NULL\",\n",
    "    \"rule2\",\"show_id IS NOT NULL\"\n",
    ")\n",
    "\n",
    "@dlt.view\n",
    "\n",
    "def gold_trans_netflixtitles():\n",
    "    df = df.spark.readStream.table('LIVE.gold_stg_netflixtitles')\n",
    "    df.withColumn('newflag',lit(1))\n",
    "    return df"
   ]
  },
  {
   "cell_type": "code",
   "execution_count": 0,
   "metadata": {
    "application/vnd.databricks.v1+cell": {
     "cellMetadata": {},
     "inputWidgets": {},
     "nuid": "d2e5a550-4a58-41d9-bb72-6c2f52f2a7ea",
     "showTitle": false,
     "tableResultSettingsMap": {},
     "title": ""
    }
   },
   "outputs": [],
   "source": [
    "@dlt.table\n",
    "\n",
    "def gold_netflixtitles():\n",
    "df = df.spark.readStream.table('LIVE.gold_trans_netflixtitles')\n",
    "return df"
   ]
  }
 ],
 "metadata": {
  "application/vnd.databricks.v1+notebook": {
   "computePreferences": null,
   "dashboards": [],
   "environmentMetadata": {
    "base_environment": "",
    "environment_version": "2"
   },
   "inputWidgetPreferences": null,
   "language": "python",
   "notebookMetadata": {
    "pythonIndentUnit": 4
   },
   "notebookName": "7_DLT_Notebook",
   "widgets": {}
  },
  "language_info": {
   "name": "python"
  }
 },
 "nbformat": 4,
 "nbformat_minor": 0
}
